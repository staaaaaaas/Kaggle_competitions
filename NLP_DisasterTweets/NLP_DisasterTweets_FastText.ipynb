{
  "nbformat": 4,
  "nbformat_minor": 0,
  "metadata": {
    "colab": {
      "name": "NLP_DisasterTweets_FastText.ipynb",
      "provenance": [],
      "collapsed_sections": []
    },
    "kernelspec": {
      "name": "python3",
      "display_name": "Python 3"
    },
    "language_info": {
      "name": "python"
    }
  },
  "cells": [
    {
      "cell_type": "code",
      "execution_count": 1,
      "metadata": {
        "colab": {
          "base_uri": "https://localhost:8080/"
        },
        "id": "M2v3nbOckOhY",
        "outputId": "809fb4a2-4cfe-47f8-f9d3-348944021d3e"
      },
      "outputs": [
        {
          "output_type": "stream",
          "name": "stdout",
          "text": [
            "[nltk_data] Downloading package wordnet to /root/nltk_data...\n",
            "[nltk_data]   Package wordnet is already up-to-date!\n",
            "[nltk_data] Downloading package stopwords to /root/nltk_data...\n",
            "[nltk_data]   Package stopwords is already up-to-date!\n"
          ]
        }
      ],
      "source": [
        "import numpy as np\n",
        "import pandas as pd\n",
        "import warnings \n",
        "warnings.filterwarnings('ignore')\n",
        "\n",
        "import re\n",
        "import nltk\n",
        "nltk.download('wordnet')\n",
        "nltk.download('stopwords')\n",
        "\n",
        "import csv\n",
        "import fasttext"
      ]
    },
    {
      "cell_type": "markdown",
      "source": [
        "# Загрузка данных"
      ],
      "metadata": {
        "id": "pQwFr-Z5kr3Q"
      }
    },
    {
      "cell_type": "code",
      "source": [
        "from google.colab import drive\n",
        "drive.mount('/content/drive')"
      ],
      "metadata": {
        "colab": {
          "base_uri": "https://localhost:8080/"
        },
        "id": "AsJchao8kfVD",
        "outputId": "6d66e3ef-6222-44c9-cb4a-0c3cdf78d2fb"
      },
      "execution_count": 2,
      "outputs": [
        {
          "output_type": "stream",
          "name": "stdout",
          "text": [
            "Drive already mounted at /content/drive; to attempt to forcibly remount, call drive.mount(\"/content/drive\", force_remount=True).\n"
          ]
        }
      ]
    },
    {
      "cell_type": "code",
      "source": [
        "df_train = pd.read_csv('/content/drive/My Drive/Colab Notebooks/AoIP/train.csv').drop(['id','keyword', 'location' ], axis = 1)\n",
        "df_test = pd.read_csv('/content/drive/My Drive/Colab Notebooks/AoIP/test.csv').drop(['id','keyword', 'location' ], axis = 1)\n",
        "df_train.head()"
      ],
      "metadata": {
        "colab": {
          "base_uri": "https://localhost:8080/",
          "height": 206
        },
        "id": "0Yc7jcJZkwm0",
        "outputId": "2284d678-b44e-4701-fb82-6a28dc66d183"
      },
      "execution_count": 3,
      "outputs": [
        {
          "output_type": "execute_result",
          "data": {
            "text/html": [
              "\n",
              "  <div id=\"df-f00da18b-10d4-4da5-9525-99338e0f7edc\">\n",
              "    <div class=\"colab-df-container\">\n",
              "      <div>\n",
              "<style scoped>\n",
              "    .dataframe tbody tr th:only-of-type {\n",
              "        vertical-align: middle;\n",
              "    }\n",
              "\n",
              "    .dataframe tbody tr th {\n",
              "        vertical-align: top;\n",
              "    }\n",
              "\n",
              "    .dataframe thead th {\n",
              "        text-align: right;\n",
              "    }\n",
              "</style>\n",
              "<table border=\"1\" class=\"dataframe\">\n",
              "  <thead>\n",
              "    <tr style=\"text-align: right;\">\n",
              "      <th></th>\n",
              "      <th>text</th>\n",
              "      <th>target</th>\n",
              "    </tr>\n",
              "  </thead>\n",
              "  <tbody>\n",
              "    <tr>\n",
              "      <th>0</th>\n",
              "      <td>Our Deeds are the Reason of this #earthquake M...</td>\n",
              "      <td>1</td>\n",
              "    </tr>\n",
              "    <tr>\n",
              "      <th>1</th>\n",
              "      <td>Forest fire near La Ronge Sask. Canada</td>\n",
              "      <td>1</td>\n",
              "    </tr>\n",
              "    <tr>\n",
              "      <th>2</th>\n",
              "      <td>All residents asked to 'shelter in place' are ...</td>\n",
              "      <td>1</td>\n",
              "    </tr>\n",
              "    <tr>\n",
              "      <th>3</th>\n",
              "      <td>13,000 people receive #wildfires evacuation or...</td>\n",
              "      <td>1</td>\n",
              "    </tr>\n",
              "    <tr>\n",
              "      <th>4</th>\n",
              "      <td>Just got sent this photo from Ruby #Alaska as ...</td>\n",
              "      <td>1</td>\n",
              "    </tr>\n",
              "  </tbody>\n",
              "</table>\n",
              "</div>\n",
              "      <button class=\"colab-df-convert\" onclick=\"convertToInteractive('df-f00da18b-10d4-4da5-9525-99338e0f7edc')\"\n",
              "              title=\"Convert this dataframe to an interactive table.\"\n",
              "              style=\"display:none;\">\n",
              "        \n",
              "  <svg xmlns=\"http://www.w3.org/2000/svg\" height=\"24px\"viewBox=\"0 0 24 24\"\n",
              "       width=\"24px\">\n",
              "    <path d=\"M0 0h24v24H0V0z\" fill=\"none\"/>\n",
              "    <path d=\"M18.56 5.44l.94 2.06.94-2.06 2.06-.94-2.06-.94-.94-2.06-.94 2.06-2.06.94zm-11 1L8.5 8.5l.94-2.06 2.06-.94-2.06-.94L8.5 2.5l-.94 2.06-2.06.94zm10 10l.94 2.06.94-2.06 2.06-.94-2.06-.94-.94-2.06-.94 2.06-2.06.94z\"/><path d=\"M17.41 7.96l-1.37-1.37c-.4-.4-.92-.59-1.43-.59-.52 0-1.04.2-1.43.59L10.3 9.45l-7.72 7.72c-.78.78-.78 2.05 0 2.83L4 21.41c.39.39.9.59 1.41.59.51 0 1.02-.2 1.41-.59l7.78-7.78 2.81-2.81c.8-.78.8-2.07 0-2.86zM5.41 20L4 18.59l7.72-7.72 1.47 1.35L5.41 20z\"/>\n",
              "  </svg>\n",
              "      </button>\n",
              "      \n",
              "  <style>\n",
              "    .colab-df-container {\n",
              "      display:flex;\n",
              "      flex-wrap:wrap;\n",
              "      gap: 12px;\n",
              "    }\n",
              "\n",
              "    .colab-df-convert {\n",
              "      background-color: #E8F0FE;\n",
              "      border: none;\n",
              "      border-radius: 50%;\n",
              "      cursor: pointer;\n",
              "      display: none;\n",
              "      fill: #1967D2;\n",
              "      height: 32px;\n",
              "      padding: 0 0 0 0;\n",
              "      width: 32px;\n",
              "    }\n",
              "\n",
              "    .colab-df-convert:hover {\n",
              "      background-color: #E2EBFA;\n",
              "      box-shadow: 0px 1px 2px rgba(60, 64, 67, 0.3), 0px 1px 3px 1px rgba(60, 64, 67, 0.15);\n",
              "      fill: #174EA6;\n",
              "    }\n",
              "\n",
              "    [theme=dark] .colab-df-convert {\n",
              "      background-color: #3B4455;\n",
              "      fill: #D2E3FC;\n",
              "    }\n",
              "\n",
              "    [theme=dark] .colab-df-convert:hover {\n",
              "      background-color: #434B5C;\n",
              "      box-shadow: 0px 1px 3px 1px rgba(0, 0, 0, 0.15);\n",
              "      filter: drop-shadow(0px 1px 2px rgba(0, 0, 0, 0.3));\n",
              "      fill: #FFFFFF;\n",
              "    }\n",
              "  </style>\n",
              "\n",
              "      <script>\n",
              "        const buttonEl =\n",
              "          document.querySelector('#df-f00da18b-10d4-4da5-9525-99338e0f7edc button.colab-df-convert');\n",
              "        buttonEl.style.display =\n",
              "          google.colab.kernel.accessAllowed ? 'block' : 'none';\n",
              "\n",
              "        async function convertToInteractive(key) {\n",
              "          const element = document.querySelector('#df-f00da18b-10d4-4da5-9525-99338e0f7edc');\n",
              "          const dataTable =\n",
              "            await google.colab.kernel.invokeFunction('convertToInteractive',\n",
              "                                                     [key], {});\n",
              "          if (!dataTable) return;\n",
              "\n",
              "          const docLinkHtml = 'Like what you see? Visit the ' +\n",
              "            '<a target=\"_blank\" href=https://colab.research.google.com/notebooks/data_table.ipynb>data table notebook</a>'\n",
              "            + ' to learn more about interactive tables.';\n",
              "          element.innerHTML = '';\n",
              "          dataTable['output_type'] = 'display_data';\n",
              "          await google.colab.output.renderOutput(dataTable, element);\n",
              "          const docLink = document.createElement('div');\n",
              "          docLink.innerHTML = docLinkHtml;\n",
              "          element.appendChild(docLink);\n",
              "        }\n",
              "      </script>\n",
              "    </div>\n",
              "  </div>\n",
              "  "
            ],
            "text/plain": [
              "                                                text  target\n",
              "0  Our Deeds are the Reason of this #earthquake M...       1\n",
              "1             Forest fire near La Ronge Sask. Canada       1\n",
              "2  All residents asked to 'shelter in place' are ...       1\n",
              "3  13,000 people receive #wildfires evacuation or...       1\n",
              "4  Just got sent this photo from Ruby #Alaska as ...       1"
            ]
          },
          "metadata": {},
          "execution_count": 3
        }
      ]
    },
    {
      "cell_type": "markdown",
      "source": [
        "# Предобработка данных"
      ],
      "metadata": {
        "id": "Z-ybgQ-jk_c4"
      }
    },
    {
      "cell_type": "code",
      "source": [
        "from nltk.corpus import stopwords\n",
        "from nltk.stem import WordNetLemmatizer\n",
        "\n",
        "from functools import lru_cache\n",
        "\n",
        "class Text_preproc():\n",
        "    def __init__(self, language):\n",
        "        if language == 'english':\n",
        "            self.bad_reg = re.compile('[^a-z\\s\\d #]')\n",
        "            self.stopwords = set(stopwords.words('english'))\n",
        "            eng_lemmatizer = WordNetLemmatizer()\n",
        "            @lru_cache(maxsize=10 ** 6)\n",
        "            def lru_eng_lemmatizer(word):\n",
        "                return eng_lemmatizer.lemmatize(word)\n",
        "            self.lemmatizer = lru_eng_lemmatizer\n",
        "        else:\n",
        "             raise NotImplementedError('Not supported language')\n",
        "\n",
        "\n",
        "    def remove_URL(self, text):\n",
        "        url = re.compile(r'https?://\\S+|www\\.\\S+')\n",
        "        return url.sub(r'',text)\n",
        "\n",
        "\n",
        "    def remove_html(self, text):\n",
        "        html=re.compile(r'<.*?>')\n",
        "        return html.sub(r'',text)\n",
        "\n",
        "\n",
        "    def remove_emoji(self, text):\n",
        "        emoji_pattern = re.compile(\"[\"\n",
        "                           u\"\\U0001F600-\\U0001F64F\"  # emoticons\n",
        "                           u\"\\U0001F300-\\U0001F5FF\"  # symbols & pictographs\n",
        "                           u\"\\U0001F680-\\U0001F6FF\"  # transport & map symbols\n",
        "                           u\"\\U0001F1E0-\\U0001F1FF\"  # flags (iOS)\n",
        "                           u\"\\U00002702-\\U000027B0\"\n",
        "                           u\"\\U000024C2-\\U0001F251\"\n",
        "                           \"]+\", flags=re.UNICODE)\n",
        "        return emoji_pattern.sub(r'', text)\n",
        "\n",
        "            \n",
        "    def __call__(self, text):\n",
        "        text = self.remove_URL(text)\n",
        "        text = self.remove_html(text)\n",
        "        text = self.remove_emoji(text)\n",
        "        text = text.lower()\n",
        "        text = re.sub(self.bad_reg, ' ', text)\n",
        "        text = re.sub('\\n|\\t', ' ', text)\n",
        "        text = re.sub(' +', ' ', text)\n",
        "        lemmas = [self.lemmatizer(word) for word in text.split()]\n",
        "        lemmas = [word for word in lemmas if word not in self.stopwords]\n",
        "        \n",
        "        return ' '.join(lemmas) "
      ],
      "metadata": {
        "id": "odz5Z06bk1Bm"
      },
      "execution_count": 4,
      "outputs": []
    },
    {
      "cell_type": "code",
      "source": [
        "preprocessor = Text_preproc('english')\n",
        "\n",
        "df_train['clear_text'] = df_train['text'].apply(preprocessor)\n",
        "df_test['clear_text'] = df_test['text'].apply(preprocessor)\n",
        "\n",
        "df_train.head()"
      ],
      "metadata": {
        "colab": {
          "base_uri": "https://localhost:8080/",
          "height": 206
        },
        "id": "d2BO-8PJlM0A",
        "outputId": "622c5de9-6be6-4fb5-92c8-b2aff33403ed"
      },
      "execution_count": 5,
      "outputs": [
        {
          "output_type": "execute_result",
          "data": {
            "text/html": [
              "\n",
              "  <div id=\"df-1b6a5920-19ca-4a6e-879a-bfc4f8026615\">\n",
              "    <div class=\"colab-df-container\">\n",
              "      <div>\n",
              "<style scoped>\n",
              "    .dataframe tbody tr th:only-of-type {\n",
              "        vertical-align: middle;\n",
              "    }\n",
              "\n",
              "    .dataframe tbody tr th {\n",
              "        vertical-align: top;\n",
              "    }\n",
              "\n",
              "    .dataframe thead th {\n",
              "        text-align: right;\n",
              "    }\n",
              "</style>\n",
              "<table border=\"1\" class=\"dataframe\">\n",
              "  <thead>\n",
              "    <tr style=\"text-align: right;\">\n",
              "      <th></th>\n",
              "      <th>text</th>\n",
              "      <th>target</th>\n",
              "      <th>clear_text</th>\n",
              "    </tr>\n",
              "  </thead>\n",
              "  <tbody>\n",
              "    <tr>\n",
              "      <th>0</th>\n",
              "      <td>Our Deeds are the Reason of this #earthquake M...</td>\n",
              "      <td>1</td>\n",
              "      <td>deed reason #earthquake may allah forgive u</td>\n",
              "    </tr>\n",
              "    <tr>\n",
              "      <th>1</th>\n",
              "      <td>Forest fire near La Ronge Sask. Canada</td>\n",
              "      <td>1</td>\n",
              "      <td>forest fire near la ronge sask canada</td>\n",
              "    </tr>\n",
              "    <tr>\n",
              "      <th>2</th>\n",
              "      <td>All residents asked to 'shelter in place' are ...</td>\n",
              "      <td>1</td>\n",
              "      <td>resident asked shelter place notified officer ...</td>\n",
              "    </tr>\n",
              "    <tr>\n",
              "      <th>3</th>\n",
              "      <td>13,000 people receive #wildfires evacuation or...</td>\n",
              "      <td>1</td>\n",
              "      <td>13 000 people receive #wildfires evacuation or...</td>\n",
              "    </tr>\n",
              "    <tr>\n",
              "      <th>4</th>\n",
              "      <td>Just got sent this photo from Ruby #Alaska as ...</td>\n",
              "      <td>1</td>\n",
              "      <td>got sent photo ruby #alaska smoke #wildfires p...</td>\n",
              "    </tr>\n",
              "  </tbody>\n",
              "</table>\n",
              "</div>\n",
              "      <button class=\"colab-df-convert\" onclick=\"convertToInteractive('df-1b6a5920-19ca-4a6e-879a-bfc4f8026615')\"\n",
              "              title=\"Convert this dataframe to an interactive table.\"\n",
              "              style=\"display:none;\">\n",
              "        \n",
              "  <svg xmlns=\"http://www.w3.org/2000/svg\" height=\"24px\"viewBox=\"0 0 24 24\"\n",
              "       width=\"24px\">\n",
              "    <path d=\"M0 0h24v24H0V0z\" fill=\"none\"/>\n",
              "    <path d=\"M18.56 5.44l.94 2.06.94-2.06 2.06-.94-2.06-.94-.94-2.06-.94 2.06-2.06.94zm-11 1L8.5 8.5l.94-2.06 2.06-.94-2.06-.94L8.5 2.5l-.94 2.06-2.06.94zm10 10l.94 2.06.94-2.06 2.06-.94-2.06-.94-.94-2.06-.94 2.06-2.06.94z\"/><path d=\"M17.41 7.96l-1.37-1.37c-.4-.4-.92-.59-1.43-.59-.52 0-1.04.2-1.43.59L10.3 9.45l-7.72 7.72c-.78.78-.78 2.05 0 2.83L4 21.41c.39.39.9.59 1.41.59.51 0 1.02-.2 1.41-.59l7.78-7.78 2.81-2.81c.8-.78.8-2.07 0-2.86zM5.41 20L4 18.59l7.72-7.72 1.47 1.35L5.41 20z\"/>\n",
              "  </svg>\n",
              "      </button>\n",
              "      \n",
              "  <style>\n",
              "    .colab-df-container {\n",
              "      display:flex;\n",
              "      flex-wrap:wrap;\n",
              "      gap: 12px;\n",
              "    }\n",
              "\n",
              "    .colab-df-convert {\n",
              "      background-color: #E8F0FE;\n",
              "      border: none;\n",
              "      border-radius: 50%;\n",
              "      cursor: pointer;\n",
              "      display: none;\n",
              "      fill: #1967D2;\n",
              "      height: 32px;\n",
              "      padding: 0 0 0 0;\n",
              "      width: 32px;\n",
              "    }\n",
              "\n",
              "    .colab-df-convert:hover {\n",
              "      background-color: #E2EBFA;\n",
              "      box-shadow: 0px 1px 2px rgba(60, 64, 67, 0.3), 0px 1px 3px 1px rgba(60, 64, 67, 0.15);\n",
              "      fill: #174EA6;\n",
              "    }\n",
              "\n",
              "    [theme=dark] .colab-df-convert {\n",
              "      background-color: #3B4455;\n",
              "      fill: #D2E3FC;\n",
              "    }\n",
              "\n",
              "    [theme=dark] .colab-df-convert:hover {\n",
              "      background-color: #434B5C;\n",
              "      box-shadow: 0px 1px 3px 1px rgba(0, 0, 0, 0.15);\n",
              "      filter: drop-shadow(0px 1px 2px rgba(0, 0, 0, 0.3));\n",
              "      fill: #FFFFFF;\n",
              "    }\n",
              "  </style>\n",
              "\n",
              "      <script>\n",
              "        const buttonEl =\n",
              "          document.querySelector('#df-1b6a5920-19ca-4a6e-879a-bfc4f8026615 button.colab-df-convert');\n",
              "        buttonEl.style.display =\n",
              "          google.colab.kernel.accessAllowed ? 'block' : 'none';\n",
              "\n",
              "        async function convertToInteractive(key) {\n",
              "          const element = document.querySelector('#df-1b6a5920-19ca-4a6e-879a-bfc4f8026615');\n",
              "          const dataTable =\n",
              "            await google.colab.kernel.invokeFunction('convertToInteractive',\n",
              "                                                     [key], {});\n",
              "          if (!dataTable) return;\n",
              "\n",
              "          const docLinkHtml = 'Like what you see? Visit the ' +\n",
              "            '<a target=\"_blank\" href=https://colab.research.google.com/notebooks/data_table.ipynb>data table notebook</a>'\n",
              "            + ' to learn more about interactive tables.';\n",
              "          element.innerHTML = '';\n",
              "          dataTable['output_type'] = 'display_data';\n",
              "          await google.colab.output.renderOutput(dataTable, element);\n",
              "          const docLink = document.createElement('div');\n",
              "          docLink.innerHTML = docLinkHtml;\n",
              "          element.appendChild(docLink);\n",
              "        }\n",
              "      </script>\n",
              "    </div>\n",
              "  </div>\n",
              "  "
            ],
            "text/plain": [
              "                                                text  ...                                         clear_text\n",
              "0  Our Deeds are the Reason of this #earthquake M...  ...        deed reason #earthquake may allah forgive u\n",
              "1             Forest fire near La Ronge Sask. Canada  ...              forest fire near la ronge sask canada\n",
              "2  All residents asked to 'shelter in place' are ...  ...  resident asked shelter place notified officer ...\n",
              "3  13,000 people receive #wildfires evacuation or...  ...  13 000 people receive #wildfires evacuation or...\n",
              "4  Just got sent this photo from Ruby #Alaska as ...  ...  got sent photo ruby #alaska smoke #wildfires p...\n",
              "\n",
              "[5 rows x 3 columns]"
            ]
          },
          "metadata": {},
          "execution_count": 5
        }
      ]
    },
    {
      "cell_type": "code",
      "source": [
        "df_train.drop(['text'], axis = 1, inplace=True)\n",
        "df_test.drop(['text'], axis = 1, inplace=True)"
      ],
      "metadata": {
        "id": "ulXxA_6smq_6"
      },
      "execution_count": 6,
      "outputs": []
    },
    {
      "cell_type": "code",
      "source": [
        "df_train['target'] = df_train['target'].apply(lambda x: '__label__' + str(x))\n",
        "df_train.head()"
      ],
      "metadata": {
        "colab": {
          "base_uri": "https://localhost:8080/",
          "height": 206
        },
        "id": "VKundRzoouhg",
        "outputId": "c7dcc83d-8932-4d31-8dff-1cca14da4cc5"
      },
      "execution_count": 7,
      "outputs": [
        {
          "output_type": "execute_result",
          "data": {
            "text/html": [
              "\n",
              "  <div id=\"df-613c2321-bbf9-43b9-b99c-d2eb1aa22134\">\n",
              "    <div class=\"colab-df-container\">\n",
              "      <div>\n",
              "<style scoped>\n",
              "    .dataframe tbody tr th:only-of-type {\n",
              "        vertical-align: middle;\n",
              "    }\n",
              "\n",
              "    .dataframe tbody tr th {\n",
              "        vertical-align: top;\n",
              "    }\n",
              "\n",
              "    .dataframe thead th {\n",
              "        text-align: right;\n",
              "    }\n",
              "</style>\n",
              "<table border=\"1\" class=\"dataframe\">\n",
              "  <thead>\n",
              "    <tr style=\"text-align: right;\">\n",
              "      <th></th>\n",
              "      <th>target</th>\n",
              "      <th>clear_text</th>\n",
              "    </tr>\n",
              "  </thead>\n",
              "  <tbody>\n",
              "    <tr>\n",
              "      <th>0</th>\n",
              "      <td>__label__1</td>\n",
              "      <td>deed reason #earthquake may allah forgive u</td>\n",
              "    </tr>\n",
              "    <tr>\n",
              "      <th>1</th>\n",
              "      <td>__label__1</td>\n",
              "      <td>forest fire near la ronge sask canada</td>\n",
              "    </tr>\n",
              "    <tr>\n",
              "      <th>2</th>\n",
              "      <td>__label__1</td>\n",
              "      <td>resident asked shelter place notified officer ...</td>\n",
              "    </tr>\n",
              "    <tr>\n",
              "      <th>3</th>\n",
              "      <td>__label__1</td>\n",
              "      <td>13 000 people receive #wildfires evacuation or...</td>\n",
              "    </tr>\n",
              "    <tr>\n",
              "      <th>4</th>\n",
              "      <td>__label__1</td>\n",
              "      <td>got sent photo ruby #alaska smoke #wildfires p...</td>\n",
              "    </tr>\n",
              "  </tbody>\n",
              "</table>\n",
              "</div>\n",
              "      <button class=\"colab-df-convert\" onclick=\"convertToInteractive('df-613c2321-bbf9-43b9-b99c-d2eb1aa22134')\"\n",
              "              title=\"Convert this dataframe to an interactive table.\"\n",
              "              style=\"display:none;\">\n",
              "        \n",
              "  <svg xmlns=\"http://www.w3.org/2000/svg\" height=\"24px\"viewBox=\"0 0 24 24\"\n",
              "       width=\"24px\">\n",
              "    <path d=\"M0 0h24v24H0V0z\" fill=\"none\"/>\n",
              "    <path d=\"M18.56 5.44l.94 2.06.94-2.06 2.06-.94-2.06-.94-.94-2.06-.94 2.06-2.06.94zm-11 1L8.5 8.5l.94-2.06 2.06-.94-2.06-.94L8.5 2.5l-.94 2.06-2.06.94zm10 10l.94 2.06.94-2.06 2.06-.94-2.06-.94-.94-2.06-.94 2.06-2.06.94z\"/><path d=\"M17.41 7.96l-1.37-1.37c-.4-.4-.92-.59-1.43-.59-.52 0-1.04.2-1.43.59L10.3 9.45l-7.72 7.72c-.78.78-.78 2.05 0 2.83L4 21.41c.39.39.9.59 1.41.59.51 0 1.02-.2 1.41-.59l7.78-7.78 2.81-2.81c.8-.78.8-2.07 0-2.86zM5.41 20L4 18.59l7.72-7.72 1.47 1.35L5.41 20z\"/>\n",
              "  </svg>\n",
              "      </button>\n",
              "      \n",
              "  <style>\n",
              "    .colab-df-container {\n",
              "      display:flex;\n",
              "      flex-wrap:wrap;\n",
              "      gap: 12px;\n",
              "    }\n",
              "\n",
              "    .colab-df-convert {\n",
              "      background-color: #E8F0FE;\n",
              "      border: none;\n",
              "      border-radius: 50%;\n",
              "      cursor: pointer;\n",
              "      display: none;\n",
              "      fill: #1967D2;\n",
              "      height: 32px;\n",
              "      padding: 0 0 0 0;\n",
              "      width: 32px;\n",
              "    }\n",
              "\n",
              "    .colab-df-convert:hover {\n",
              "      background-color: #E2EBFA;\n",
              "      box-shadow: 0px 1px 2px rgba(60, 64, 67, 0.3), 0px 1px 3px 1px rgba(60, 64, 67, 0.15);\n",
              "      fill: #174EA6;\n",
              "    }\n",
              "\n",
              "    [theme=dark] .colab-df-convert {\n",
              "      background-color: #3B4455;\n",
              "      fill: #D2E3FC;\n",
              "    }\n",
              "\n",
              "    [theme=dark] .colab-df-convert:hover {\n",
              "      background-color: #434B5C;\n",
              "      box-shadow: 0px 1px 3px 1px rgba(0, 0, 0, 0.15);\n",
              "      filter: drop-shadow(0px 1px 2px rgba(0, 0, 0, 0.3));\n",
              "      fill: #FFFFFF;\n",
              "    }\n",
              "  </style>\n",
              "\n",
              "      <script>\n",
              "        const buttonEl =\n",
              "          document.querySelector('#df-613c2321-bbf9-43b9-b99c-d2eb1aa22134 button.colab-df-convert');\n",
              "        buttonEl.style.display =\n",
              "          google.colab.kernel.accessAllowed ? 'block' : 'none';\n",
              "\n",
              "        async function convertToInteractive(key) {\n",
              "          const element = document.querySelector('#df-613c2321-bbf9-43b9-b99c-d2eb1aa22134');\n",
              "          const dataTable =\n",
              "            await google.colab.kernel.invokeFunction('convertToInteractive',\n",
              "                                                     [key], {});\n",
              "          if (!dataTable) return;\n",
              "\n",
              "          const docLinkHtml = 'Like what you see? Visit the ' +\n",
              "            '<a target=\"_blank\" href=https://colab.research.google.com/notebooks/data_table.ipynb>data table notebook</a>'\n",
              "            + ' to learn more about interactive tables.';\n",
              "          element.innerHTML = '';\n",
              "          dataTable['output_type'] = 'display_data';\n",
              "          await google.colab.output.renderOutput(dataTable, element);\n",
              "          const docLink = document.createElement('div');\n",
              "          docLink.innerHTML = docLinkHtml;\n",
              "          element.appendChild(docLink);\n",
              "        }\n",
              "      </script>\n",
              "    </div>\n",
              "  </div>\n",
              "  "
            ],
            "text/plain": [
              "       target                                         clear_text\n",
              "0  __label__1        deed reason #earthquake may allah forgive u\n",
              "1  __label__1              forest fire near la ronge sask canada\n",
              "2  __label__1  resident asked shelter place notified officer ...\n",
              "3  __label__1  13 000 people receive #wildfires evacuation or...\n",
              "4  __label__1  got sent photo ruby #alaska smoke #wildfires p..."
            ]
          },
          "metadata": {},
          "execution_count": 7
        }
      ]
    },
    {
      "cell_type": "code",
      "source": [
        "from sklearn.model_selection import train_test_split\n",
        "\n",
        "df_train, df_val = train_test_split(df_train, random_state=42, test_size=0.2)\n",
        "\n",
        "df_train.shape, df_val.shape"
      ],
      "metadata": {
        "colab": {
          "base_uri": "https://localhost:8080/"
        },
        "id": "9ORyOSe1lQmE",
        "outputId": "84c23ac3-db78-48d5-8e3f-ea1d1af18a2b"
      },
      "execution_count": 8,
      "outputs": [
        {
          "output_type": "execute_result",
          "data": {
            "text/plain": [
              "((6090, 2), (1523, 2))"
            ]
          },
          "metadata": {},
          "execution_count": 8
        }
      ]
    },
    {
      "cell_type": "code",
      "source": [
        "df_train.to_csv('/content/drive/My Drive/Colab Notebooks/AoIP/train.txt', \n",
        "                index = False, \n",
        "                sep = ' ',\n",
        "                header = None, \n",
        "                quoting = csv.QUOTE_NONE, \n",
        "                quotechar = \"\", \n",
        "                escapechar = \" \")\n",
        "\n",
        "df_val.to_csv('/content/drive/My Drive/Colab Notebooks/AoIP/test.txt', \n",
        "                index = False, \n",
        "                sep = ' ',\n",
        "                header = None, \n",
        "                quoting = csv.QUOTE_NONE, \n",
        "                quotechar = \"\", \n",
        "                escapechar = \" \")"
      ],
      "metadata": {
        "id": "fiMyfUhMnV9I"
      },
      "execution_count": 9,
      "outputs": []
    },
    {
      "cell_type": "markdown",
      "source": [
        "# FastText\n",
        "\n",
        "FastText — это библиотека, содержащая предобученные готовые векторные представления слов и классификатор, то есть алгоритм машинного обучения разбивающий слова на классы. FastText разработала команда исследователей из Facebook AI Research.\n",
        "\n",
        "Для получения векторного представления слов одновременно используются модели skipgram с негативным сэмплированием и CBOW (Continuous Bag-of-Words). \n",
        "\n",
        "Негативное сэмплирование — это способ создать для обучения векторной модели отрицательные примеры, то есть показать ей пары слов, которые не являются соседями по контексту.\n",
        "\n",
        "В основе классификатора лежит модель линейной классификации, по архитектуре схожая с моделью CBOW. Чем больше количество классов, тем больше время работы линейной модели. Для оптимизации классификатора используется иерархический софтмакс основанный на алгоритме кодирования Хаффмана.\n",
        "\n",
        "![image.png](data:image/png;base64,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)\n"
      ],
      "metadata": {
        "id": "aI4Ve2bVpcdV"
      }
    },
    {
      "cell_type": "code",
      "source": [
        "model = fasttext.train_supervised('/content/drive/My Drive/Colab Notebooks/AoIP/train.txt', wordNgrams = 2, label_prefix='__label__', epoch=10)"
      ],
      "metadata": {
        "id": "qB_gAd8zpPpJ"
      },
      "execution_count": 50,
      "outputs": []
    },
    {
      "cell_type": "code",
      "source": [
        "model.test('/content/drive/My Drive/Colab Notebooks/AoIP/test.txt')   "
      ],
      "metadata": {
        "id": "k0W_FPjmpqDp",
        "colab": {
          "base_uri": "https://localhost:8080/"
        },
        "outputId": "0f3f71ce-1297-4ce6-b185-cc5c4c9c891b"
      },
      "execution_count": 51,
      "outputs": [
        {
          "output_type": "execute_result",
          "data": {
            "text/plain": [
              "(1523, 0.7957977675640184, 0.7957977675640184)"
            ]
          },
          "metadata": {},
          "execution_count": 51
        }
      ]
    },
    {
      "cell_type": "code",
      "source": [
        "test = [str(val) for val in df_test.values]\n",
        "preds = [int(label[0][-1]) for label in model.predict(test)[0]]"
      ],
      "metadata": {
        "id": "DXqg0WkurzSI"
      },
      "execution_count": 33,
      "outputs": []
    },
    {
      "cell_type": "code",
      "source": [
        "res = pd.read_csv('/content/drive/My Drive/Colab Notebooks/AoIP/sample_submission.csv')"
      ],
      "metadata": {
        "id": "p2f87TUjsZys"
      },
      "execution_count": 34,
      "outputs": []
    },
    {
      "cell_type": "code",
      "source": [
        "res['target'] = preds\n",
        "res.head()"
      ],
      "metadata": {
        "colab": {
          "base_uri": "https://localhost:8080/",
          "height": 206
        },
        "id": "QW6Tcozktl3X",
        "outputId": "6bbcc011-b78f-435b-972d-aacb768faf89"
      },
      "execution_count": 36,
      "outputs": [
        {
          "output_type": "execute_result",
          "data": {
            "text/html": [
              "\n",
              "  <div id=\"df-4b4c4240-edd2-4252-85ec-2ae3d79dd7de\">\n",
              "    <div class=\"colab-df-container\">\n",
              "      <div>\n",
              "<style scoped>\n",
              "    .dataframe tbody tr th:only-of-type {\n",
              "        vertical-align: middle;\n",
              "    }\n",
              "\n",
              "    .dataframe tbody tr th {\n",
              "        vertical-align: top;\n",
              "    }\n",
              "\n",
              "    .dataframe thead th {\n",
              "        text-align: right;\n",
              "    }\n",
              "</style>\n",
              "<table border=\"1\" class=\"dataframe\">\n",
              "  <thead>\n",
              "    <tr style=\"text-align: right;\">\n",
              "      <th></th>\n",
              "      <th>id</th>\n",
              "      <th>target</th>\n",
              "    </tr>\n",
              "  </thead>\n",
              "  <tbody>\n",
              "    <tr>\n",
              "      <th>0</th>\n",
              "      <td>0</td>\n",
              "      <td>1</td>\n",
              "    </tr>\n",
              "    <tr>\n",
              "      <th>1</th>\n",
              "      <td>2</td>\n",
              "      <td>1</td>\n",
              "    </tr>\n",
              "    <tr>\n",
              "      <th>2</th>\n",
              "      <td>3</td>\n",
              "      <td>1</td>\n",
              "    </tr>\n",
              "    <tr>\n",
              "      <th>3</th>\n",
              "      <td>9</td>\n",
              "      <td>0</td>\n",
              "    </tr>\n",
              "    <tr>\n",
              "      <th>4</th>\n",
              "      <td>11</td>\n",
              "      <td>1</td>\n",
              "    </tr>\n",
              "  </tbody>\n",
              "</table>\n",
              "</div>\n",
              "      <button class=\"colab-df-convert\" onclick=\"convertToInteractive('df-4b4c4240-edd2-4252-85ec-2ae3d79dd7de')\"\n",
              "              title=\"Convert this dataframe to an interactive table.\"\n",
              "              style=\"display:none;\">\n",
              "        \n",
              "  <svg xmlns=\"http://www.w3.org/2000/svg\" height=\"24px\"viewBox=\"0 0 24 24\"\n",
              "       width=\"24px\">\n",
              "    <path d=\"M0 0h24v24H0V0z\" fill=\"none\"/>\n",
              "    <path d=\"M18.56 5.44l.94 2.06.94-2.06 2.06-.94-2.06-.94-.94-2.06-.94 2.06-2.06.94zm-11 1L8.5 8.5l.94-2.06 2.06-.94-2.06-.94L8.5 2.5l-.94 2.06-2.06.94zm10 10l.94 2.06.94-2.06 2.06-.94-2.06-.94-.94-2.06-.94 2.06-2.06.94z\"/><path d=\"M17.41 7.96l-1.37-1.37c-.4-.4-.92-.59-1.43-.59-.52 0-1.04.2-1.43.59L10.3 9.45l-7.72 7.72c-.78.78-.78 2.05 0 2.83L4 21.41c.39.39.9.59 1.41.59.51 0 1.02-.2 1.41-.59l7.78-7.78 2.81-2.81c.8-.78.8-2.07 0-2.86zM5.41 20L4 18.59l7.72-7.72 1.47 1.35L5.41 20z\"/>\n",
              "  </svg>\n",
              "      </button>\n",
              "      \n",
              "  <style>\n",
              "    .colab-df-container {\n",
              "      display:flex;\n",
              "      flex-wrap:wrap;\n",
              "      gap: 12px;\n",
              "    }\n",
              "\n",
              "    .colab-df-convert {\n",
              "      background-color: #E8F0FE;\n",
              "      border: none;\n",
              "      border-radius: 50%;\n",
              "      cursor: pointer;\n",
              "      display: none;\n",
              "      fill: #1967D2;\n",
              "      height: 32px;\n",
              "      padding: 0 0 0 0;\n",
              "      width: 32px;\n",
              "    }\n",
              "\n",
              "    .colab-df-convert:hover {\n",
              "      background-color: #E2EBFA;\n",
              "      box-shadow: 0px 1px 2px rgba(60, 64, 67, 0.3), 0px 1px 3px 1px rgba(60, 64, 67, 0.15);\n",
              "      fill: #174EA6;\n",
              "    }\n",
              "\n",
              "    [theme=dark] .colab-df-convert {\n",
              "      background-color: #3B4455;\n",
              "      fill: #D2E3FC;\n",
              "    }\n",
              "\n",
              "    [theme=dark] .colab-df-convert:hover {\n",
              "      background-color: #434B5C;\n",
              "      box-shadow: 0px 1px 3px 1px rgba(0, 0, 0, 0.15);\n",
              "      filter: drop-shadow(0px 1px 2px rgba(0, 0, 0, 0.3));\n",
              "      fill: #FFFFFF;\n",
              "    }\n",
              "  </style>\n",
              "\n",
              "      <script>\n",
              "        const buttonEl =\n",
              "          document.querySelector('#df-4b4c4240-edd2-4252-85ec-2ae3d79dd7de button.colab-df-convert');\n",
              "        buttonEl.style.display =\n",
              "          google.colab.kernel.accessAllowed ? 'block' : 'none';\n",
              "\n",
              "        async function convertToInteractive(key) {\n",
              "          const element = document.querySelector('#df-4b4c4240-edd2-4252-85ec-2ae3d79dd7de');\n",
              "          const dataTable =\n",
              "            await google.colab.kernel.invokeFunction('convertToInteractive',\n",
              "                                                     [key], {});\n",
              "          if (!dataTable) return;\n",
              "\n",
              "          const docLinkHtml = 'Like what you see? Visit the ' +\n",
              "            '<a target=\"_blank\" href=https://colab.research.google.com/notebooks/data_table.ipynb>data table notebook</a>'\n",
              "            + ' to learn more about interactive tables.';\n",
              "          element.innerHTML = '';\n",
              "          dataTable['output_type'] = 'display_data';\n",
              "          await google.colab.output.renderOutput(dataTable, element);\n",
              "          const docLink = document.createElement('div');\n",
              "          docLink.innerHTML = docLinkHtml;\n",
              "          element.appendChild(docLink);\n",
              "        }\n",
              "      </script>\n",
              "    </div>\n",
              "  </div>\n",
              "  "
            ],
            "text/plain": [
              "   id  target\n",
              "0   0       1\n",
              "1   2       1\n",
              "2   3       1\n",
              "3   9       0\n",
              "4  11       1"
            ]
          },
          "metadata": {},
          "execution_count": 36
        }
      ]
    },
    {
      "cell_type": "code",
      "source": [
        "res.to_csv('/content/drive/My Drive/Colab Notebooks/AoIP/result_FastText.csv', index=False)"
      ],
      "metadata": {
        "id": "kZrAdaAFts9x"
      },
      "execution_count": 37,
      "outputs": []
    }
  ]
}