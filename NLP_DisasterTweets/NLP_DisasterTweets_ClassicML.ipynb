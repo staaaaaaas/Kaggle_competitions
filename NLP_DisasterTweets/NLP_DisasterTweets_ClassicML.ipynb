{
 "cells": [
  {
   "cell_type": "code",
   "execution_count": 1,
   "id": "89dc16d7-ea42-4bcd-93c8-a0320121b0a4",
   "metadata": {},
   "outputs": [],
   "source": [
    "import numpy as np\n",
    "import pandas as pd\n",
    "import matplotlib.pyplot as plt\n",
    "import seaborn as sns\n",
    "\n",
    "sns.set_style(\"darkgrid\", {\"grid.color\": \".6\", \"grid.linestyle\": \":\"})\n",
    "\n",
    "%matplotlib inline"
   ]
  },
  {
   "cell_type": "markdown",
   "id": "30fd3bb6-bb2a-41aa-84ad-d43fe610090c",
   "metadata": {},
   "source": [
    "# Работа с данными"
   ]
  },
  {
   "cell_type": "markdown",
   "id": "8365069f-0ba0-4cb3-b874-dbeb9bb4364f",
   "metadata": {},
   "source": [
    "Атрибутный состав данных\n",
    "\n",
    "* text - Текст твита \n",
    "* keyword - Ключевое слово твита\n",
    "* location - Место отправки твита\n",
    "\n",
    "**Необходимо предсказать, написан ли твит о реальном происшествии или это фейк, метки классов соответсвенно 1 и 0.**\n",
    "\n",
    "https://www.kaggle.com/c/nlp-getting-started/overview"
   ]
  },
  {
   "cell_type": "markdown",
   "id": "e4d5ade8-7c2b-4892-8f38-ed2f2cd62357",
   "metadata": {},
   "source": [
    "## Загрузка данных"
   ]
  },
  {
   "cell_type": "code",
   "execution_count": 2,
   "id": "5cd2153c-c597-45cd-99ea-980a8fb9c1e4",
   "metadata": {},
   "outputs": [
    {
     "data": {
      "text/html": [
       "<div>\n",
       "<style scoped>\n",
       "    .dataframe tbody tr th:only-of-type {\n",
       "        vertical-align: middle;\n",
       "    }\n",
       "\n",
       "    .dataframe tbody tr th {\n",
       "        vertical-align: top;\n",
       "    }\n",
       "\n",
       "    .dataframe thead th {\n",
       "        text-align: right;\n",
       "    }\n",
       "</style>\n",
       "<table border=\"1\" class=\"dataframe\">\n",
       "  <thead>\n",
       "    <tr style=\"text-align: right;\">\n",
       "      <th></th>\n",
       "      <th>id</th>\n",
       "      <th>keyword</th>\n",
       "      <th>location</th>\n",
       "      <th>text</th>\n",
       "      <th>target</th>\n",
       "    </tr>\n",
       "  </thead>\n",
       "  <tbody>\n",
       "    <tr>\n",
       "      <th>0</th>\n",
       "      <td>1</td>\n",
       "      <td>NaN</td>\n",
       "      <td>NaN</td>\n",
       "      <td>Our Deeds are the Reason of this #earthquake M...</td>\n",
       "      <td>1</td>\n",
       "    </tr>\n",
       "    <tr>\n",
       "      <th>1</th>\n",
       "      <td>4</td>\n",
       "      <td>NaN</td>\n",
       "      <td>NaN</td>\n",
       "      <td>Forest fire near La Ronge Sask. Canada</td>\n",
       "      <td>1</td>\n",
       "    </tr>\n",
       "    <tr>\n",
       "      <th>2</th>\n",
       "      <td>5</td>\n",
       "      <td>NaN</td>\n",
       "      <td>NaN</td>\n",
       "      <td>All residents asked to 'shelter in place' are ...</td>\n",
       "      <td>1</td>\n",
       "    </tr>\n",
       "    <tr>\n",
       "      <th>3</th>\n",
       "      <td>6</td>\n",
       "      <td>NaN</td>\n",
       "      <td>NaN</td>\n",
       "      <td>13,000 people receive #wildfires evacuation or...</td>\n",
       "      <td>1</td>\n",
       "    </tr>\n",
       "    <tr>\n",
       "      <th>4</th>\n",
       "      <td>7</td>\n",
       "      <td>NaN</td>\n",
       "      <td>NaN</td>\n",
       "      <td>Just got sent this photo from Ruby #Alaska as ...</td>\n",
       "      <td>1</td>\n",
       "    </tr>\n",
       "  </tbody>\n",
       "</table>\n",
       "</div>"
      ],
      "text/plain": [
       "   id keyword location                                               text  \\\n",
       "0   1     NaN      NaN  Our Deeds are the Reason of this #earthquake M...   \n",
       "1   4     NaN      NaN             Forest fire near La Ronge Sask. Canada   \n",
       "2   5     NaN      NaN  All residents asked to 'shelter in place' are ...   \n",
       "3   6     NaN      NaN  13,000 people receive #wildfires evacuation or...   \n",
       "4   7     NaN      NaN  Just got sent this photo from Ruby #Alaska as ...   \n",
       "\n",
       "   target  \n",
       "0       1  \n",
       "1       1  \n",
       "2       1  \n",
       "3       1  \n",
       "4       1  "
      ]
     },
     "execution_count": 2,
     "metadata": {},
     "output_type": "execute_result"
    }
   ],
   "source": [
    "df_train = pd.read_csv('train.csv')\n",
    "df_train.head()"
   ]
  },
  {
   "cell_type": "code",
   "execution_count": 3,
   "id": "cfa9e809-ea79-4535-993b-ff0bf0b9ec47",
   "metadata": {},
   "outputs": [
    {
     "name": "stdout",
     "output_type": "stream",
     "text": [
      "<class 'pandas.core.frame.DataFrame'>\n",
      "RangeIndex: 7613 entries, 0 to 7612\n",
      "Data columns (total 5 columns):\n",
      " #   Column    Non-Null Count  Dtype \n",
      "---  ------    --------------  ----- \n",
      " 0   id        7613 non-null   int64 \n",
      " 1   keyword   7552 non-null   object\n",
      " 2   location  5080 non-null   object\n",
      " 3   text      7613 non-null   object\n",
      " 4   target    7613 non-null   int64 \n",
      "dtypes: int64(2), object(3)\n",
      "memory usage: 297.5+ KB\n"
     ]
    }
   ],
   "source": [
    "df_train.info()"
   ]
  },
  {
   "cell_type": "markdown",
   "id": "32dbde0c-16dd-426f-a7f9-ecc1bb4b0267",
   "metadata": {},
   "source": [
    "В данных много пропущенных значений, с ними надо что делать"
   ]
  },
  {
   "cell_type": "markdown",
   "id": "17f6e327-1a5e-4d05-9e25-11e2b99c5b4c",
   "metadata": {},
   "source": [
    "## Баланс целевой величины\n",
    "\n",
    "Посмотрим на баланс целевой величины"
   ]
  },
  {
   "cell_type": "code",
   "execution_count": 4,
   "id": "e4c9775e-1dba-45e5-9288-43fbcb5d4301",
   "metadata": {},
   "outputs": [
    {
     "data": {
      "image/png": "[encoded data removed]",
      "text/plain": [
       "<Figure size 576x432 with 1 Axes>"
      ]
     },
     "metadata": {
      "needs_background": "light"
     },
     "output_type": "display_data"
    }
   ],
   "source": [
    "plt.figure(figsize=(8,6))\n",
    "plt.title('Target value balance')\n",
    "sns.histplot(data=df_train, x='target')\n",
    "plt.xticks([0,1])\n",
    "plt.show()"
   ]
  },
  {
   "cell_type": "markdown",
   "id": "3c057496-117d-4ac7-a14a-4c04aeb08e9c",
   "metadata": {},
   "source": [
    "В целом баланс хороший, но все таки лучше не использовать accuracy в данной задаче (баланс не 50 на 50). Будем сравнивать алгоритмы по метрике balanced accuracy. У некоторых алгоритмов есть параметр class_weights для несбалансированных данных. Если возможно, будем использовать class_weights = 'balanced'."
   ]
  },
  {
   "cell_type": "markdown",
   "id": "6f82344d-b2a1-4e64-b8ca-955e440839f6",
   "metadata": {},
   "source": [
    "## Предобработка текста"
   ]
  },
  {
   "cell_type": "code",
   "execution_count": 5,
   "id": "0f551279-d81c-4324-8b10-68d70f617f8f",
   "metadata": {},
   "outputs": [],
   "source": [
    "import re\n",
    "from nltk.corpus import stopwords\n",
    "from nltk.stem import WordNetLemmatizer\n",
    "from functools import lru_cache\n",
    "\n",
    "class Text_preproc():\n",
    "    def __init__(self, language):\n",
    "        if language == 'english':\n",
    "            self.bad_reg = re.compile('[^a-z\\s\\d #]')\n",
    "            self.stopwords = set(stopwords.words('english'))\n",
    "            eng_lemmatizer = WordNetLemmatizer()\n",
    "            @lru_cache(maxsize=10 ** 6)\n",
    "            def lru_eng_lemmatizer(word):\n",
    "                return eng_lemmatizer.lemmatize(word)\n",
    "            self.lemmatizer = lru_eng_lemmatizer\n",
    "        else:\n",
    "             raise NotImplementedError('Not supported language')\n",
    "\n",
    "\n",
    "    def remove_URL(self, text):\n",
    "        url = re.compile(r'https?://\\S+|www\\.\\S+')\n",
    "        return url.sub(r'',text)\n",
    "\n",
    "\n",
    "    def remove_html(self, text):\n",
    "        html=re.compile(r'<.*?>')\n",
    "        return html.sub(r'',text)\n",
    "\n",
    "\n",
    "    def remove_emoji(self, text):\n",
    "        emoji_pattern = re.compile(\"[\"\n",
    "                           u\"\\U0001F600-\\U0001F64F\"  # emoticons\n",
    "                           u\"\\U0001F300-\\U0001F5FF\"  # symbols & pictographs\n",
    "                           u\"\\U0001F680-\\U0001F6FF\"  # transport & map symbols\n",
    "                           u\"\\U0001F1E0-\\U0001F1FF\"  # flags (iOS)\n",
    "                           u\"\\U00002702-\\U000027B0\"\n",
    "                           u\"\\U000024C2-\\U0001F251\"\n",
    "                           \"]+\", flags=re.UNICODE)\n",
    "        return emoji_pattern.sub(r'', text)\n",
    "\n",
    "            \n",
    "    def __call__(self, text):\n",
    "        text = self.remove_URL(text)\n",
    "        text = self.remove_html(text)\n",
    "        text = self.remove_emoji(text)\n",
    "        text = text.lower()\n",
    "        text = re.sub(self.bad_reg, ' ', text)\n",
    "        text = re.sub('\\n|\\t', ' ', text)\n",
    "        text = re.sub(' +', ' ', text)\n",
    "        lemmas = [self.lemmatizer(word) for word in text.split()]\n",
    "        lemmas = [word for word in lemmas if word not in self.stopwords]\n",
    "        \n",
    "        return ' '.join(lemmas) "
   ]
  },
  {
   "cell_type": "code",
   "execution_count": 6,
   "id": "d3254c5b-b454-40d1-9066-c5c8db0143d9",
   "metadata": {},
   "outputs": [
    {
     "data": {
      "text/html": [
       "<div>\n",
       "<style scoped>\n",
       "    .dataframe tbody tr th:only-of-type {\n",
       "        vertical-align: middle;\n",
       "    }\n",
       "\n",
       "    .dataframe tbody tr th {\n",
       "        vertical-align: top;\n",
       "    }\n",
       "\n",
       "    .dataframe thead th {\n",
       "        text-align: right;\n",
       "    }\n",
       "</style>\n",
       "<table border=\"1\" class=\"dataframe\">\n",
       "  <thead>\n",
       "    <tr style=\"text-align: right;\">\n",
       "      <th></th>\n",
       "      <th>id</th>\n",
       "      <th>keyword</th>\n",
       "      <th>location</th>\n",
       "      <th>text</th>\n",
       "      <th>target</th>\n",
       "      <th>clear_text</th>\n",
       "    </tr>\n",
       "  </thead>\n",
       "  <tbody>\n",
       "    <tr>\n",
       "      <th>0</th>\n",
       "      <td>1</td>\n",
       "      <td>NaN</td>\n",
       "      <td>NaN</td>\n",
       "      <td>Our Deeds are the Reason of this #earthquake M...</td>\n",
       "      <td>1</td>\n",
       "      <td>deed reason #earthquake may allah forgive u</td>\n",
       "    </tr>\n",
       "    <tr>\n",
       "      <th>1</th>\n",
       "      <td>4</td>\n",
       "      <td>NaN</td>\n",
       "      <td>NaN</td>\n",
       "      <td>Forest fire near La Ronge Sask. Canada</td>\n",
       "      <td>1</td>\n",
       "      <td>forest fire near la ronge sask canada</td>\n",
       "    </tr>\n",
       "    <tr>\n",
       "      <th>2</th>\n",
       "      <td>5</td>\n",
       "      <td>NaN</td>\n",
       "      <td>NaN</td>\n",
       "      <td>All residents asked to 'shelter in place' are ...</td>\n",
       "      <td>1</td>\n",
       "      <td>resident asked shelter place notified officer ...</td>\n",
       "    </tr>\n",
       "    <tr>\n",
       "      <th>3</th>\n",
       "      <td>6</td>\n",
       "      <td>NaN</td>\n",
       "      <td>NaN</td>\n",
       "      <td>13,000 people receive #wildfires evacuation or...</td>\n",
       "      <td>1</td>\n",
       "      <td>13 000 people receive #wildfires evacuation or...</td>\n",
       "    </tr>\n",
       "    <tr>\n",
       "      <th>4</th>\n",
       "      <td>7</td>\n",
       "      <td>NaN</td>\n",
       "      <td>NaN</td>\n",
       "      <td>Just got sent this photo from Ruby #Alaska as ...</td>\n",
       "      <td>1</td>\n",
       "      <td>got sent photo ruby #alaska smoke #wildfires p...</td>\n",
       "    </tr>\n",
       "  </tbody>\n",
       "</table>\n",
       "</div>"
      ],
      "text/plain": [
       "   id keyword location                                               text  \\\n",
       "0   1     NaN      NaN  Our Deeds are the Reason of this #earthquake M...   \n",
       "1   4     NaN      NaN             Forest fire near La Ronge Sask. Canada   \n",
       "2   5     NaN      NaN  All residents asked to 'shelter in place' are ...   \n",
       "3   6     NaN      NaN  13,000 people receive #wildfires evacuation or...   \n",
       "4   7     NaN      NaN  Just got sent this photo from Ruby #Alaska as ...   \n",
       "\n",
       "   target                                         clear_text  \n",
       "0       1        deed reason #earthquake may allah forgive u  \n",
       "1       1              forest fire near la ronge sask canada  \n",
       "2       1  resident asked shelter place notified officer ...  \n",
       "3       1  13 000 people receive #wildfires evacuation or...  \n",
       "4       1  got sent photo ruby #alaska smoke #wildfires p...  "
      ]
     },
     "execution_count": 6,
     "metadata": {},
     "output_type": "execute_result"
    }
   ],
   "source": [
    "preprocessor = Text_preproc('english')\n",
    "\n",
    "df_train['clear_text'] = df_train['text'].apply(preprocessor)\n",
    "df_train.head()"
   ]
  },
  {
   "cell_type": "code",
   "execution_count": 7,
   "id": "35b76374-df65-456d-a93c-7b3094218b8c",
   "metadata": {},
   "outputs": [
    {
     "name": "stdout",
     "output_type": "stream",
     "text": [
      "FULL TEXT:\n",
      "\tOur Deeds are the Reason of this #earthquake May ALLAH Forgive us all\n",
      "CLEAR TEXT:\n",
      "\tdeed reason #earthquake may allah forgive u\n",
      "FULL TEXT:\n",
      "\tForest fire near La Ronge Sask. Canada\n",
      "CLEAR TEXT:\n",
      "\tforest fire near la ronge sask canada\n",
      "FULL TEXT:\n",
      "\tAll residents asked to 'shelter in place' are being notified by officers. No other evacuation or shelter in place orders are expected\n",
      "CLEAR TEXT:\n",
      "\tresident asked shelter place notified officer evacuation shelter place order expected\n"
     ]
    }
   ],
   "source": [
    "pd.options.display.max_colwidth = 200\n",
    "\n",
    "for i in range(3):\n",
    "    print(f'FULL TEXT:\\n\\t{df_train.iloc[i].text}\\nCLEAR TEXT:\\n\\t{df_train.iloc[i].clear_text}')"
   ]
  },
  {
   "cell_type": "markdown",
   "id": "a84f79f8-b27e-41a4-b301-be7f39bf4ed5",
   "metadata": {},
   "source": [
    "# Classic ML models Baseline\n",
    "\n",
    "**В этой части были выбраны следующие алгоритмы:**\n",
    "\n",
    "* Алгортим Наивного Байеса\n",
    "\n",
    "* Линейные модели\n",
    "    1. Метод опорных векторов с линейным ядром\n",
    "    2. Логистическая регрессия\n",
    "\n",
    "\n",
    "* Метрический алгортим k ближайших соседей\n",
    "\n",
    "**Для представления текста используется TF-IDF**"
   ]
  },
  {
   "cell_type": "code",
   "execution_count": 8,
   "id": "bdf1f130-a869-4029-ae4a-21061fc8dd26",
   "metadata": {},
   "outputs": [
    {
     "data": {
      "text/plain": [
       "((7613,), (7613,))"
      ]
     },
     "execution_count": 8,
     "metadata": {},
     "output_type": "execute_result"
    }
   ],
   "source": [
    "X_train = np.array(df_train['clear_text'])\n",
    "y_train = np.array(df_train['target'])\n",
    "\n",
    "X_train.shape, y_train.shape"
   ]
  },
  {
   "cell_type": "markdown",
   "id": "8ef3a0c5-5ed0-40e1-9ac7-db4ae7f27c52",
   "metadata": {},
   "source": [
    "## Train/val"
   ]
  },
  {
   "cell_type": "code",
   "execution_count": 9,
   "id": "973bb345-8b72-4b4a-99e0-eeddb682e083",
   "metadata": {},
   "outputs": [
    {
     "name": "stdout",
     "output_type": "stream",
     "text": [
      "Train shape: ((6090,), (6090,))\n",
      "Validation shape: ((1523,), (1523,))\n"
     ]
    }
   ],
   "source": [
    "from sklearn.model_selection import train_test_split\n",
    "\n",
    "X_train, X_val, y_train,  y_val = train_test_split(X_train, y_train, test_size=0.2, stratify=y_train, random_state=42)\n",
    "\n",
    "print(f'Train shape: {X_train.shape, y_train.shape}')\n",
    "print(f'Validation shape: {X_val.shape, y_val.shape}')"
   ]
  },
  {
   "cell_type": "markdown",
   "id": "493272bd-8c4c-414c-b8aa-86d273a229ae",
   "metadata": {},
   "source": [
    "## TD-IDF Vectorizer\n",
    "\n",
    "TF-IDF (TF — term frequency, IDF — inverse document frequency) — статистическая мера, используемая для оценки важности слова в контексте документа, являющегося частью коллекции документов или корпуса. Вес некоторого слова пропорционален частоте употребления этого слова в документе и обратно пропорционален частоте употребления слова во всех документах коллекции.\n",
    "\n",
    "$$TF-IDF (t, d, D) =  TF(t, d) \\cdot IDF(t, D)$$\n",
    "\n",
    "где $d$ - отдельный документ, $t$ - cлово, $D$ - коллекция документов.\n",
    "\n",
    "$$TF = \\frac{n_t}{\\sum{n_k}} $$\n",
    "\n",
    "где $n_t$ - число вхождений слова в документ,  $\\sum{n_k}$ - общее число слов в документе.\n",
    "\n",
    "$$IDF = \\log{\\frac{|D|}{|\\{d_i \\in  D | t \\in d_i \\}|}}$$\n",
    "\n",
    "где $|D|$ - число документов в коллекции, $|\\{d_i \\in  D | t \\in d_i \\}|$ - число документов из коллекции $D$, в которых встречается $t$."
   ]
  },
  {
   "cell_type": "code",
   "execution_count": 10,
   "id": "ec48ba72-e183-4215-a074-d3e94e2b1766",
   "metadata": {},
   "outputs": [
    {
     "data": {
      "text/plain": [
       "(<6090x52791 sparse matrix of type '<class 'numpy.float64'>'\n",
       " \twith 105744 stored elements in Compressed Sparse Row format>,\n",
       " <1523x52791 sparse matrix of type '<class 'numpy.float64'>'\n",
       " \twith 15705 stored elements in Compressed Sparse Row format>)"
      ]
     },
     "execution_count": 10,
     "metadata": {},
     "output_type": "execute_result"
    }
   ],
   "source": [
    "from sklearn.feature_extraction.text import TfidfVectorizer\n",
    "\n",
    "tfidf_vectorizer = TfidfVectorizer(ngram_range=(1,2))\n",
    "\n",
    "X_train = tfidf_vectorizer.fit_transform(X_train)\n",
    "\n",
    "X_val = tfidf_vectorizer.transform(X_val)\n",
    "\n",
    "X_train, X_val"
   ]
  },
  {
   "cell_type": "markdown",
   "id": "bf6c0dbc-3012-4f7f-9b18-ef46bac96dd5",
   "metadata": {},
   "source": [
    "## Naive Bayes"
   ]
  },
  {
   "cell_type": "code",
   "execution_count": 21,
   "id": "84566594-5f40-4c26-8a1f-a15b783e01bc",
   "metadata": {},
   "outputs": [],
   "source": [
    "from sklearn.naive_bayes import MultinomialNB\n",
    "from sklearn.metrics import balanced_accuracy_score\n",
    "from sklearn.metrics import classification_report"
   ]
  },
  {
   "cell_type": "markdown",
   "id": "0d6e77f8-6f3a-4675-b6ad-8adf7da199d3",
   "metadata": {},
   "source": [
    "### Tuning"
   ]
  },
  {
   "cell_type": "code",
   "execution_count": 22,
   "id": "64ab2197-4e8d-4f26-a82f-91e7aee7c215",
   "metadata": {},
   "outputs": [],
   "source": [
    "alpha_grid = np.linspace(1e-10, 3, 50)\n",
    "scores = {}\n",
    "\n",
    "for alpha in alpha_grid:\n",
    "    model = MultinomialNB(alpha=alpha)\n",
    "    model.fit(X_train, y_train)\n",
    "    y_pred = model.predict(X_val)\n",
    "    scores[alpha] = balanced_accuracy_score(y_val, y_pred)"
   ]
  },
  {
   "cell_type": "code",
   "execution_count": 23,
   "id": "4f93be3e-2900-4fa8-b293-276857d8aabf",
   "metadata": {},
   "outputs": [
    {
     "data": {
      "image/png": "[encoded data removed]",
      "text/plain": [
       "<Figure size 1152x576 with 1 Axes>"
      ]
     },
     "metadata": {
      "needs_background": "light"
     },
     "output_type": "display_data"
    }
   ],
   "source": [
    "plt.figure(figsize=(16,8))\n",
    "plt.title('Naive Bayes results')\n",
    "\n",
    "sns.lineplot(x = scores.keys(), y = scores.values(), marker = 'o')\n",
    "\n",
    "plt.xlabel('alpha')\n",
    "plt.ylabel('balanced accuracy')\n",
    "plt.show()"
   ]
  },
  {
   "cell_type": "code",
   "execution_count": 24,
   "id": "6ae7342f-07a2-4776-8193-3d89372d1fdb",
   "metadata": {},
   "outputs": [
    {
     "name": "stdout",
     "output_type": "stream",
     "text": [
      "The best balanced accuracy is 0.8022156297617917 with params 0.551020408244898\n"
     ]
    }
   ],
   "source": [
    "best_accuracy_key = max(scores, key=scores.get)\n",
    "print(f'The best balanced accuracy is {scores[best_accuracy_key]} with params {best_accuracy_key}')"
   ]
  },
  {
   "cell_type": "markdown",
   "id": "b3d6d9e9-46bf-4c9a-a9b8-b09d0b98dcb4",
   "metadata": {},
   "source": [
    "### fit-predict"
   ]
  },
  {
   "cell_type": "code",
   "execution_count": 15,
   "id": "a956cecc-4222-420b-b8f8-0c41061df247",
   "metadata": {},
   "outputs": [
    {
     "name": "stdout",
     "output_type": "stream",
     "text": [
      "Wall time: 11 ms\n"
     ]
    }
   ],
   "source": [
    "%%time\n",
    "\n",
    "model = MultinomialNB(alpha=0.551020408244898)\n",
    "model.fit(X_train, y_train)\n",
    "y_pred = model.predict(X_val)"
   ]
  },
  {
   "cell_type": "code",
   "execution_count": 16,
   "id": "eff0acfd-9122-449a-a231-cbb54343183c",
   "metadata": {},
   "outputs": [
    {
     "name": "stdout",
     "output_type": "stream",
     "text": [
      "              precision    recall  f1-score   support\n",
      "\n",
      "           0       0.80      0.91      0.85       869\n",
      "           1       0.85      0.69      0.77       654\n",
      "\n",
      "    accuracy                           0.82      1523\n",
      "   macro avg       0.83      0.80      0.81      1523\n",
      "weighted avg       0.82      0.82      0.81      1523\n",
      "\n",
      "Blanced accuracy of the model: 0.8022156297617917\n"
     ]
    }
   ],
   "source": [
    "print(classification_report(y_val, y_pred))\n",
    "print(f'Blanced accuracy of the model: {balanced_accuracy_score(y_val, y_pred)}')"
   ]
  },
  {
   "cell_type": "markdown",
   "id": "e994fb60-8958-4b61-994a-ca3f342b2da8",
   "metadata": {},
   "source": [
    "## Logistic regression"
   ]
  },
  {
   "cell_type": "code",
   "execution_count": 17,
   "id": "d049fb11-cd66-42f0-a736-96aae65247c3",
   "metadata": {},
   "outputs": [],
   "source": [
    "from sklearn.linear_model import LogisticRegression\n",
    "from sklearn.metrics import balanced_accuracy_score\n",
    "from sklearn.metrics import classification_report"
   ]
  },
  {
   "cell_type": "markdown",
   "id": "6d4ea067-b36a-498e-9875-59424718ba5c",
   "metadata": {},
   "source": [
    "### Tuning"
   ]
  },
  {
   "cell_type": "code",
   "execution_count": 18,
   "id": "a2f189e8-feaa-481b-8a60-d3c1dd1ecf97",
   "metadata": {},
   "outputs": [],
   "source": [
    "C_grid = np.linspace(1e-10, 5, 50)\n",
    "scores = {}\n",
    "\n",
    "for C in C_grid:\n",
    "    model = LogisticRegression(penalty='l2', C=C, class_weight='balanced', max_iter=500)\n",
    "    model.fit(X_train, y_train)\n",
    "    y_pred = model.predict(X_val)\n",
    "    scores[C] = balanced_accuracy_score(y_val, y_pred)"
   ]
  },
  {
   "cell_type": "code",
   "execution_count": 19,
   "id": "00d0f02b-f9b1-4cfe-b963-7a655d1626df",
   "metadata": {},
   "outputs": [
    {
     "data": {
      "image/png": "[encoded data removed]",
      "text/plain": [
       "<Figure size 1152x576 with 1 Axes>"
      ]
     },
     "metadata": {
      "needs_background": "light"
     },
     "output_type": "display_data"
    }
   ],
   "source": [
    "plt.figure(figsize=(16,8))\n",
    "plt.title('Logistic regression results')\n",
    "\n",
    "sns.lineplot(x = scores.keys(), y = scores.values(), marker = 'o')\n",
    "\n",
    "plt.xlabel('C')\n",
    "plt.ylabel('balanced accuracy')\n",
    "plt.show()"
   ]
  },
  {
   "cell_type": "code",
   "execution_count": 20,
   "id": "b94784d1-ac4d-4343-b677-cce1bd63ec67",
   "metadata": {},
   "outputs": [
    {
     "name": "stdout",
     "output_type": "stream",
     "text": [
      "The best balanced accuracy is 0.8074564598487488 with params 1.530612244967347\n"
     ]
    }
   ],
   "source": [
    "best_accuracy_key = max(scores, key=scores.get)\n",
    "print(f'The best balanced accuracy is {scores[best_accuracy_key]} with params {best_accuracy_key}')"
   ]
  },
  {
   "cell_type": "markdown",
   "id": "8381a497-a5bb-4a95-9769-c0815faee829",
   "metadata": {},
   "source": [
    "### fit-predict"
   ]
  },
  {
   "cell_type": "code",
   "execution_count": 21,
   "id": "dcafc77f-d8ff-4c7d-bb89-5be254547373",
   "metadata": {},
   "outputs": [
    {
     "name": "stdout",
     "output_type": "stream",
     "text": [
      "Wall time: 889 ms\n"
     ]
    }
   ],
   "source": [
    "%%time\n",
    "\n",
    "model = LogisticRegression(penalty='l2', C=1.530612244967347, class_weight='balanced', max_iter=500)\n",
    "model.fit(X_train, y_train)\n",
    "y_pred = model.predict(X_val)"
   ]
  },
  {
   "cell_type": "code",
   "execution_count": 22,
   "id": "7767e1e9-2962-4a18-95c0-7fc2b9a184ea",
   "metadata": {},
   "outputs": [
    {
     "name": "stdout",
     "output_type": "stream",
     "text": [
      "              precision    recall  f1-score   support\n",
      "\n",
      "           0       0.83      0.85      0.84       869\n",
      "           1       0.79      0.77      0.78       654\n",
      "\n",
      "    accuracy                           0.81      1523\n",
      "   macro avg       0.81      0.81      0.81      1523\n",
      "weighted avg       0.81      0.81      0.81      1523\n",
      "\n",
      "Blanced accuracy of the model: 0.8074564598487488\n"
     ]
    }
   ],
   "source": [
    "print(classification_report(y_val, y_pred))\n",
    "print(f'Blanced accuracy of the model: {balanced_accuracy_score(y_val, y_pred)}')"
   ]
  },
  {
   "cell_type": "markdown",
   "id": "a59dfced-9292-4f0c-af92-45358af91a64",
   "metadata": {},
   "source": [
    "## Linear SVC"
   ]
  },
  {
   "cell_type": "code",
   "execution_count": 23,
   "id": "4f64b7f2-322a-46a5-b1ec-32f8366ae1ea",
   "metadata": {},
   "outputs": [],
   "source": [
    "from sklearn.svm import LinearSVC\n",
    "from sklearn.metrics import balanced_accuracy_score\n",
    "from sklearn.metrics import classification_report"
   ]
  },
  {
   "cell_type": "markdown",
   "id": "d9177d7b-b7a0-4c9c-963d-abf67ed30701",
   "metadata": {},
   "source": [
    "### Tuning"
   ]
  },
  {
   "cell_type": "code",
   "execution_count": 24,
   "id": "a97b5931-90d5-4d80-85f5-8264fe09f24d",
   "metadata": {},
   "outputs": [],
   "source": [
    "C_grid = np.linspace(1e-10, 5, 50)\n",
    "scores = {}\n",
    "\n",
    "for C in C_grid:\n",
    "    model = LinearSVC(penalty='l2', C=C, class_weight='balanced')\n",
    "    model.fit(X_train, y_train)\n",
    "    y_pred = model.predict(X_val)\n",
    "    scores[C] = balanced_accuracy_score(y_val, y_pred)"
   ]
  },
  {
   "cell_type": "code",
   "execution_count": 25,
   "id": "66173fa7-74b7-428b-9b52-05ed1d330c81",
   "metadata": {},
   "outputs": [
    {
     "data": {
      "image/png": "[encoded data removed]",
      "text/plain": [
       "<Figure size 1152x576 with 1 Axes>"
      ]
     },
     "metadata": {
      "needs_background": "light"
     },
     "output_type": "display_data"
    }
   ],
   "source": [
    "plt.figure(figsize=(16,8))\n",
    "plt.title('Linear SVC results')\n",
    "\n",
    "sns.lineplot(x = scores.keys(), y = scores.values(), marker = 'o')\n",
    "\n",
    "plt.xlabel('C')\n",
    "plt.ylabel('balanced accuracy')\n",
    "plt.show()"
   ]
  },
  {
   "cell_type": "code",
   "execution_count": 26,
   "id": "4912dc49-daf1-4b5d-91f3-d19db7a70dd3",
   "metadata": {},
   "outputs": [
    {
     "name": "stdout",
     "output_type": "stream",
     "text": [
      "The best balanced accuracy is 0.8074564598487488 with params 0.2040816327489796\n"
     ]
    }
   ],
   "source": [
    "best_accuracy_key = max(scores, key=scores.get)\n",
    "print(f'The best balanced accuracy is {scores[best_accuracy_key]} with params {best_accuracy_key}')"
   ]
  },
  {
   "cell_type": "markdown",
   "id": "38118b22-1f5d-428b-bb4b-0bd2e5534641",
   "metadata": {},
   "source": [
    "### fit-predict"
   ]
  },
  {
   "cell_type": "code",
   "execution_count": 27,
   "id": "77aa18f5-e710-4f95-b742-a9c2f09fb72b",
   "metadata": {},
   "outputs": [
    {
     "name": "stdout",
     "output_type": "stream",
     "text": [
      "Wall time: 31.8 ms\n"
     ]
    }
   ],
   "source": [
    "%%time\n",
    "\n",
    "model = LinearSVC(penalty='l2', C=0.2040816327489796, class_weight='balanced')\n",
    "model.fit(X_train, y_train)\n",
    "y_pred = model.predict(X_val)"
   ]
  },
  {
   "cell_type": "code",
   "execution_count": 28,
   "id": "eb1367b2-36f7-45aa-97fc-73755b126bc7",
   "metadata": {},
   "outputs": [
    {
     "name": "stdout",
     "output_type": "stream",
     "text": [
      "              precision    recall  f1-score   support\n",
      "\n",
      "           0       0.83      0.85      0.84       869\n",
      "           1       0.79      0.77      0.78       654\n",
      "\n",
      "    accuracy                           0.81      1523\n",
      "   macro avg       0.81      0.81      0.81      1523\n",
      "weighted avg       0.81      0.81      0.81      1523\n",
      "\n",
      "Blanced accuracy of the model: 0.8074564598487488\n"
     ]
    }
   ],
   "source": [
    "print(classification_report(y_val, y_pred))\n",
    "print(f'Blanced accuracy of the model: {balanced_accuracy_score(y_val, y_pred)}')"
   ]
  },
  {
   "cell_type": "markdown",
   "id": "23750493-d2b4-4f24-bcac-56862517f9f6",
   "metadata": {},
   "source": [
    "## KNN"
   ]
  },
  {
   "cell_type": "code",
   "execution_count": 29,
   "id": "bc0881dd-19aa-4fe4-bad2-821fd7ae8df4",
   "metadata": {},
   "outputs": [],
   "source": [
    "from sklearn.neighbors import KNeighborsClassifier\n",
    "from sklearn.metrics import balanced_accuracy_score\n",
    "from sklearn.metrics import classification_report"
   ]
  },
  {
   "cell_type": "markdown",
   "id": "ce237104-6a69-4784-b3cd-4e16cae14158",
   "metadata": {},
   "source": [
    "### Tuning"
   ]
  },
  {
   "cell_type": "code",
   "execution_count": 30,
   "id": "9f3f1447-b4b0-4ae3-a836-741d601313ac",
   "metadata": {},
   "outputs": [],
   "source": [
    "n_neighbors_grid = np.arange(1, 100)\n",
    "scores = {}\n",
    "\n",
    "for n_neighbors in n_neighbors_grid:\n",
    "    model = KNeighborsClassifier(n_neighbors=n_neighbors, weights='distance', metric='cosine')\n",
    "    model.fit(X_train, y_train)\n",
    "    y_pred = model.predict(X_val)\n",
    "    scores[n_neighbors] = balanced_accuracy_score(y_val, y_pred)"
   ]
  },
  {
   "cell_type": "code",
   "execution_count": 31,
   "id": "6282bb86-68f8-4d50-bff3-89305618c356",
   "metadata": {},
   "outputs": [
    {
     "data": {
      "image/png": "[encoded data removed]",
      "text/plain": [
       "<Figure size 1152x576 with 1 Axes>"
      ]
     },
     "metadata": {
      "needs_background": "light"
     },
     "output_type": "display_data"
    }
   ],
   "source": [
    "plt.figure(figsize=(16,8))\n",
    "plt.title('KNN results')\n",
    "\n",
    "sns.lineplot(x = scores.keys(), y = scores.values(), marker = 'o')\n",
    "\n",
    "plt.xlabel('n_neighbors')\n",
    "plt.ylabel('balanced accuracy')\n",
    "plt.show()"
   ]
  },
  {
   "cell_type": "code",
   "execution_count": 32,
   "id": "273e36da-3db1-4ba4-8757-924adacb9cd7",
   "metadata": {},
   "outputs": [
    {
     "name": "stdout",
     "output_type": "stream",
     "text": [
      "The best balanced accuracy is 0.7895336479414984 with params 73\n"
     ]
    }
   ],
   "source": [
    "best_accuracy_key = max(scores, key=scores.get)\n",
    "print(f'The best balanced accuracy is {scores[best_accuracy_key]} with params {best_accuracy_key}')"
   ]
  },
  {
   "cell_type": "markdown",
   "id": "b2e6a979-a1a9-4b28-976e-f5e26005cbc6",
   "metadata": {},
   "source": [
    "### fit-predict"
   ]
  },
  {
   "cell_type": "code",
   "execution_count": 33,
   "id": "517dcffd-bafb-4801-b0a5-9a75c8bfb648",
   "metadata": {},
   "outputs": [
    {
     "name": "stdout",
     "output_type": "stream",
     "text": [
      "Wall time: 474 ms\n"
     ]
    }
   ],
   "source": [
    "%%time\n",
    "\n",
    "model = KNeighborsClassifier(n_neighbors=73, weights='distance', metric='cosine')\n",
    "model.fit(X_train, y_train)\n",
    "y_pred = model.predict(X_val)"
   ]
  },
  {
   "cell_type": "code",
   "execution_count": 34,
   "id": "f59d2a35-67cf-4e5a-956c-d91a5cdda8da",
   "metadata": {},
   "outputs": [
    {
     "name": "stdout",
     "output_type": "stream",
     "text": [
      "              precision    recall  f1-score   support\n",
      "\n",
      "           0       0.80      0.87      0.83       869\n",
      "           1       0.81      0.71      0.75       654\n",
      "\n",
      "    accuracy                           0.80      1523\n",
      "   macro avg       0.80      0.79      0.79      1523\n",
      "weighted avg       0.80      0.80      0.80      1523\n",
      "\n",
      "Blanced accuracy of the model: 0.7895336479414984\n"
     ]
    }
   ],
   "source": [
    "print(classification_report(y_val, y_pred))\n",
    "print(f'Blanced accuracy of the model: {balanced_accuracy_score(y_val, y_pred)}')"
   ]
  },
  {
   "cell_type": "markdown",
   "id": "110c901e-2d7c-45fd-acd8-61ffab272334",
   "metadata": {},
   "source": [
    "# Ensemble models Baseline\n",
    "\n",
    "**Из анасамблевых методов были выбраны:**\n",
    "\n",
    "* Случайный лес\n",
    "* CatBoost (Градиентный бустинг)\n",
    "\n",
    "**Для представления слов используется BagOfWords (CountVectorizer)**"
   ]
  },
  {
   "cell_type": "code",
   "execution_count": 17,
   "id": "09b46e5a-4cd1-4998-87dd-033da3564db0",
   "metadata": {},
   "outputs": [
    {
     "data": {
      "text/plain": [
       "((7613,), (7613,))"
      ]
     },
     "execution_count": 17,
     "metadata": {},
     "output_type": "execute_result"
    }
   ],
   "source": [
    "X_train = np.array(df_train['clear_text'])\n",
    "y_train = np.array(df_train['target'])\n",
    "\n",
    "X_train.shape, y_train.shape"
   ]
  },
  {
   "cell_type": "markdown",
   "id": "52c7842c-8758-4935-b536-e00fbc26892c",
   "metadata": {},
   "source": [
    "## Train/val"
   ]
  },
  {
   "cell_type": "code",
   "execution_count": 18,
   "id": "17384641-5b38-4f8f-a8cc-c92c1fdf4b53",
   "metadata": {},
   "outputs": [
    {
     "name": "stdout",
     "output_type": "stream",
     "text": [
      "Train shape: ((6090,), (6090,))\n",
      "Validation shape: ((1523,), (1523,))\n"
     ]
    }
   ],
   "source": [
    "from sklearn.model_selection import train_test_split\n",
    "\n",
    "X_train, X_val, y_train,  y_val = train_test_split(df_train['clear_text'], df_train['target'],\n",
    "                                                   test_size=0.2, stratify=df_train['target'], random_state=42)\n",
    "\n",
    "print(f'Train shape: {X_train.shape, y_train.shape}')\n",
    "print(f'Validation shape: {X_val.shape, y_val.shape}')"
   ]
  },
  {
   "cell_type": "markdown",
   "id": "2eff687a-9cea-44fe-9168-dd764e54a71d",
   "metadata": {},
   "source": [
    "## CountVectorizer"
   ]
  },
  {
   "cell_type": "code",
   "execution_count": 19,
   "id": "6443c904-0bd0-4c58-b333-543e3257a1c3",
   "metadata": {},
   "outputs": [
    {
     "data": {
      "text/plain": [
       "(<6090x52791 sparse matrix of type '<class 'numpy.int64'>'\n",
       " \twith 105744 stored elements in Compressed Sparse Row format>,\n",
       " <1523x52791 sparse matrix of type '<class 'numpy.int64'>'\n",
       " \twith 15705 stored elements in Compressed Sparse Row format>)"
      ]
     },
     "execution_count": 19,
     "metadata": {},
     "output_type": "execute_result"
    }
   ],
   "source": [
    "from sklearn.feature_extraction.text import CountVectorizer\n",
    "\n",
    "bow_vectorizer = CountVectorizer(ngram_range=(1,2))\n",
    "X_train = bow_vectorizer.fit_transform(X_train)\n",
    "X_val = bow_vectorizer.transform(X_val)\n",
    "\n",
    "X_train, X_val"
   ]
  },
  {
   "cell_type": "markdown",
   "id": "b8a524ea-ea6b-4330-a395-19ab036f0c51",
   "metadata": {},
   "source": [
    "## Random Forest"
   ]
  },
  {
   "cell_type": "code",
   "execution_count": 38,
   "id": "2709ce62-c5a4-4572-b182-8e7318120cd7",
   "metadata": {},
   "outputs": [],
   "source": [
    "from sklearn.ensemble import RandomForestClassifier\n",
    "from sklearn.metrics import balanced_accuracy_score\n",
    "from sklearn.metrics import classification_report"
   ]
  },
  {
   "cell_type": "markdown",
   "id": "73e67891-cf19-4b28-a0c7-f5b8b812662f",
   "metadata": {},
   "source": [
    "### fit-predict"
   ]
  },
  {
   "cell_type": "code",
   "execution_count": 39,
   "id": "5f189838-be00-4258-8af1-d90ed55848a6",
   "metadata": {},
   "outputs": [
    {
     "name": "stdout",
     "output_type": "stream",
     "text": [
      "Wall time: 41.1 s\n"
     ]
    }
   ],
   "source": [
    "%%time\n",
    "\n",
    "model = RandomForestClassifier()\n",
    "model.fit(X_train, y_train)\n",
    "y_pred = model.predict(X_val)"
   ]
  },
  {
   "cell_type": "code",
   "execution_count": 40,
   "id": "8fb7dc85-90e0-47a3-9c38-8a9db888b4b7",
   "metadata": {},
   "outputs": [
    {
     "name": "stdout",
     "output_type": "stream",
     "text": [
      "              precision    recall  f1-score   support\n",
      "\n",
      "           0       0.76      0.92      0.83       869\n",
      "           1       0.86      0.60      0.71       654\n",
      "\n",
      "    accuracy                           0.79      1523\n",
      "   macro avg       0.81      0.76      0.77      1523\n",
      "weighted avg       0.80      0.79      0.78      1523\n",
      "\n",
      "Blanced accuracy of the model: 0.7632485580459103\n"
     ]
    }
   ],
   "source": [
    "print(classification_report(y_val, y_pred))\n",
    "print(f'Blanced accuracy of the model: {balanced_accuracy_score(y_val, y_pred)}')"
   ]
  },
  {
   "cell_type": "markdown",
   "id": "b65bddfd-eb5a-411c-bc9e-72feffe786ab",
   "metadata": {},
   "source": [
    "## CatBoost"
   ]
  },
  {
   "cell_type": "code",
   "execution_count": 41,
   "id": "64315815-14f6-4ae3-9df3-2312ba88b3f5",
   "metadata": {},
   "outputs": [],
   "source": [
    "from catboost import CatBoostClassifier\n",
    "from sklearn.metrics import balanced_accuracy_score\n",
    "from sklearn.metrics import classification_report"
   ]
  },
  {
   "cell_type": "markdown",
   "id": "686042a9-86f8-49bd-8d3e-a2cca49d0536",
   "metadata": {},
   "source": [
    "### fit-predict"
   ]
  },
  {
   "cell_type": "code",
   "execution_count": 42,
   "id": "6e4c8fac-9537-47d6-a8d7-c59803c88e41",
   "metadata": {},
   "outputs": [
    {
     "name": "stdout",
     "output_type": "stream",
     "text": [
      "0:\tlearn: 0.6832214\ttest: 0.6830084\tbest: 0.6830084 (0)\ttotal: 494ms\tremaining: 8m 13s\n",
      "100:\tlearn: 0.5191767\ttest: 0.5254997\tbest: 0.5254997 (100)\ttotal: 31.5s\tremaining: 4m 40s\n",
      "200:\tlearn: 0.4413947\ttest: 0.4738567\tbest: 0.4738567 (200)\ttotal: 1m 2s\tremaining: 4m 7s\n",
      "300:\tlearn: 0.3983606\ttest: 0.4546492\tbest: 0.4546492 (300)\ttotal: 1m 33s\tremaining: 3m 36s\n",
      "400:\tlearn: 0.3671694\ttest: 0.4440536\tbest: 0.4440536 (400)\ttotal: 2m 4s\tremaining: 3m 5s\n",
      "500:\tlearn: 0.3459618\ttest: 0.4391931\tbest: 0.4390928 (495)\ttotal: 2m 35s\tremaining: 2m 34s\n",
      "600:\tlearn: 0.3262301\ttest: 0.4344947\tbest: 0.4344381 (599)\ttotal: 3m 6s\tremaining: 2m 3s\n",
      "700:\tlearn: 0.3101699\ttest: 0.4322900\tbest: 0.4321110 (689)\ttotal: 3m 37s\tremaining: 1m 32s\n",
      "800:\tlearn: 0.2942155\ttest: 0.4296798\tbest: 0.4296798 (800)\ttotal: 4m 8s\tremaining: 1m 1s\n",
      "900:\tlearn: 0.2805729\ttest: 0.4275277\tbest: 0.4273791 (888)\ttotal: 4m 38s\tremaining: 30.6s\n",
      "999:\tlearn: 0.2682182\ttest: 0.4265671\tbest: 0.4265262 (997)\ttotal: 5m 8s\tremaining: 0us\n",
      "\n",
      "bestTest = 0.426526172\n",
      "bestIteration = 997\n",
      "\n",
      "Shrink model to first 998 iterations.\n"
     ]
    },
    {
     "data": {
      "text/plain": [
       "<catboost.core.CatBoostClassifier at 0x211e66ffee0>"
      ]
     },
     "execution_count": 42,
     "metadata": {},
     "output_type": "execute_result"
    }
   ],
   "source": [
    "model = CatBoostClassifier(learning_rate=0.1, loss_function= 'Logloss', iterations=1000, verbose= 100)\n",
    "\n",
    "model.fit(X_train, y_train, eval_set=(X_val, y_val))"
   ]
  },
  {
   "cell_type": "code",
   "execution_count": 43,
   "id": "c8f1cbc7-2570-4114-9f65-eb88b09a555d",
   "metadata": {},
   "outputs": [
    {
     "name": "stdout",
     "output_type": "stream",
     "text": [
      "              precision    recall  f1-score   support\n",
      "\n",
      "           0       0.81      0.90      0.85       869\n",
      "           1       0.84      0.71      0.77       654\n",
      "\n",
      "    accuracy                           0.82      1523\n",
      "   macro avg       0.82      0.80      0.81      1523\n",
      "weighted avg       0.82      0.82      0.81      1523\n",
      "\n",
      "Blanced accuracy of the model: 0.804485453771251\n"
     ]
    }
   ],
   "source": [
    "y_pred = model.predict(X_val)\n",
    "\n",
    "print(classification_report(y_val, y_pred))\n",
    "print(f'Blanced accuracy of the model: {balanced_accuracy_score(y_val, y_pred)}')"
   ]
  },
  {
   "cell_type": "markdown",
   "id": "081c19e3-5791-47a4-ad43-c55c6bca32fe",
   "metadata": {},
   "source": [
    "# Test Submissions\n",
    "\n",
    "Уже обучены нужные представления слов"
   ]
  },
  {
   "cell_type": "code",
   "execution_count": 15,
   "id": "57e8b447-decf-4c84-8911-6bcb929c0e8c",
   "metadata": {},
   "outputs": [
    {
     "data": {
      "text/html": [
       "<div>\n",
       "<style scoped>\n",
       "    .dataframe tbody tr th:only-of-type {\n",
       "        vertical-align: middle;\n",
       "    }\n",
       "\n",
       "    .dataframe tbody tr th {\n",
       "        vertical-align: top;\n",
       "    }\n",
       "\n",
       "    .dataframe thead th {\n",
       "        text-align: right;\n",
       "    }\n",
       "</style>\n",
       "<table border=\"1\" class=\"dataframe\">\n",
       "  <thead>\n",
       "    <tr style=\"text-align: right;\">\n",
       "      <th></th>\n",
       "      <th>text</th>\n",
       "    </tr>\n",
       "  </thead>\n",
       "  <tbody>\n",
       "    <tr>\n",
       "      <th>0</th>\n",
       "      <td>Just happened a terrible car crash</td>\n",
       "    </tr>\n",
       "    <tr>\n",
       "      <th>1</th>\n",
       "      <td>Heard about #earthquake is different cities, stay safe everyone.</td>\n",
       "    </tr>\n",
       "    <tr>\n",
       "      <th>2</th>\n",
       "      <td>there is a forest fire at spot pond, geese are fleeing across the street, I cannot save them all</td>\n",
       "    </tr>\n",
       "    <tr>\n",
       "      <th>3</th>\n",
       "      <td>Apocalypse lighting. #Spokane #wildfires</td>\n",
       "    </tr>\n",
       "    <tr>\n",
       "      <th>4</th>\n",
       "      <td>Typhoon Soudelor kills 28 in China and Taiwan</td>\n",
       "    </tr>\n",
       "  </tbody>\n",
       "</table>\n",
       "</div>"
      ],
      "text/plain": [
       "                                                                                               text\n",
       "0                                                                Just happened a terrible car crash\n",
       "1                                  Heard about #earthquake is different cities, stay safe everyone.\n",
       "2  there is a forest fire at spot pond, geese are fleeing across the street, I cannot save them all\n",
       "3                                                          Apocalypse lighting. #Spokane #wildfires\n",
       "4                                                     Typhoon Soudelor kills 28 in China and Taiwan"
      ]
     },
     "execution_count": 15,
     "metadata": {},
     "output_type": "execute_result"
    }
   ],
   "source": [
    "df_test = pd.read_csv('test.csv').drop(['id', 'keyword','location'], axis = 1)\n",
    "df_test.head()"
   ]
  },
  {
   "cell_type": "code",
   "execution_count": 16,
   "id": "0d5300fc-e58d-4026-bff0-9e4dea396102",
   "metadata": {},
   "outputs": [
    {
     "data": {
      "text/html": [
       "<div>\n",
       "<style scoped>\n",
       "    .dataframe tbody tr th:only-of-type {\n",
       "        vertical-align: middle;\n",
       "    }\n",
       "\n",
       "    .dataframe tbody tr th {\n",
       "        vertical-align: top;\n",
       "    }\n",
       "\n",
       "    .dataframe thead th {\n",
       "        text-align: right;\n",
       "    }\n",
       "</style>\n",
       "<table border=\"1\" class=\"dataframe\">\n",
       "  <thead>\n",
       "    <tr style=\"text-align: right;\">\n",
       "      <th></th>\n",
       "      <th>text</th>\n",
       "      <th>clear_text</th>\n",
       "    </tr>\n",
       "  </thead>\n",
       "  <tbody>\n",
       "    <tr>\n",
       "      <th>0</th>\n",
       "      <td>Just happened a terrible car crash</td>\n",
       "      <td>happened terrible car crash</td>\n",
       "    </tr>\n",
       "    <tr>\n",
       "      <th>1</th>\n",
       "      <td>Heard about #earthquake is different cities, stay safe everyone.</td>\n",
       "      <td>heard #earthquake different city stay safe everyone</td>\n",
       "    </tr>\n",
       "    <tr>\n",
       "      <th>2</th>\n",
       "      <td>there is a forest fire at spot pond, geese are fleeing across the street, I cannot save them all</td>\n",
       "      <td>forest fire spot pond goose fleeing across street cannot save</td>\n",
       "    </tr>\n",
       "    <tr>\n",
       "      <th>3</th>\n",
       "      <td>Apocalypse lighting. #Spokane #wildfires</td>\n",
       "      <td>apocalypse lighting #spokane #wildfires</td>\n",
       "    </tr>\n",
       "    <tr>\n",
       "      <th>4</th>\n",
       "      <td>Typhoon Soudelor kills 28 in China and Taiwan</td>\n",
       "      <td>typhoon soudelor kill 28 china taiwan</td>\n",
       "    </tr>\n",
       "  </tbody>\n",
       "</table>\n",
       "</div>"
      ],
      "text/plain": [
       "                                                                                               text  \\\n",
       "0                                                                Just happened a terrible car crash   \n",
       "1                                  Heard about #earthquake is different cities, stay safe everyone.   \n",
       "2  there is a forest fire at spot pond, geese are fleeing across the street, I cannot save them all   \n",
       "3                                                          Apocalypse lighting. #Spokane #wildfires   \n",
       "4                                                     Typhoon Soudelor kills 28 in China and Taiwan   \n",
       "\n",
       "                                                      clear_text  \n",
       "0                                    happened terrible car crash  \n",
       "1            heard #earthquake different city stay safe everyone  \n",
       "2  forest fire spot pond goose fleeing across street cannot save  \n",
       "3                        apocalypse lighting #spokane #wildfires  \n",
       "4                          typhoon soudelor kill 28 china taiwan  "
      ]
     },
     "execution_count": 16,
     "metadata": {},
     "output_type": "execute_result"
    }
   ],
   "source": [
    "preprocessor = Text_preproc('english')\n",
    "\n",
    "df_test['clear_text'] = df_test['text'].apply(preprocessor)\n",
    "df_test.head()"
   ]
  },
  {
   "cell_type": "code",
   "execution_count": 20,
   "id": "7f0c57a3-0266-4a2b-9eb0-6d090221f92a",
   "metadata": {},
   "outputs": [],
   "source": [
    "X_test = np.array(df_test['clear_text'])\n",
    "X_test_tfidf = tfidf_vectorizer.transform(X_test)\n",
    "X_test_bow = bow_vectorizer.transform(X_test)"
   ]
  },
  {
   "cell_type": "markdown",
   "id": "1135879b-a645-40f1-a619-77c8db51a237",
   "metadata": {},
   "source": [
    "## Naive Bayes"
   ]
  },
  {
   "cell_type": "code",
   "execution_count": 22,
   "id": "c0750c8b-5805-42eb-b386-a83bfda97b39",
   "metadata": {},
   "outputs": [
    {
     "data": {
      "text/plain": [
       "array([1, 1, 1, ..., 1, 1, 1], dtype=int64)"
      ]
     },
     "execution_count": 22,
     "metadata": {},
     "output_type": "execute_result"
    }
   ],
   "source": [
    "from sklearn.naive_bayes import MultinomialNB\n",
    "\n",
    "model = MultinomialNB(alpha=0.551020408244898)\n",
    "model.fit(X_train, y_train)\n",
    "y_pred = model.predict(X_test_tfidf)\n",
    "y_pred"
   ]
  },
  {
   "cell_type": "code",
   "execution_count": 23,
   "id": "4c1e84f0-8606-46ed-8c40-82f64ddd2a51",
   "metadata": {},
   "outputs": [],
   "source": [
    "res = pd.read_csv('sample_submission.csv')\n",
    "res['target'] = y_pred\n",
    "res.to_csv('result_NB.csv', index = False)"
   ]
  },
  {
   "cell_type": "markdown",
   "id": "65e32a0a-3c77-40b3-9eaa-d9ed087671eb",
   "metadata": {},
   "source": [
    "## Logistic Regression"
   ]
  },
  {
   "cell_type": "code",
   "execution_count": 24,
   "id": "d96c6ec7-2843-418c-80e4-a40d9cc4e0c8",
   "metadata": {},
   "outputs": [],
   "source": [
    "from sklearn.linear_model import LogisticRegression\n",
    "\n",
    "model = LogisticRegression(penalty='l2', C=1.530612244967347, class_weight='balanced', max_iter=500)\n",
    "model.fit(X_train, y_train)\n",
    "y_pred = model.predict(X_test_tfidf)"
   ]
  },
  {
   "cell_type": "code",
   "execution_count": 25,
   "id": "a9c5c046-b90c-45f5-ab07-f71654667743",
   "metadata": {},
   "outputs": [],
   "source": [
    "res = pd.read_csv('sample_submission.csv')\n",
    "res['target'] = y_pred\n",
    "res.to_csv('result_LogReg.csv', index = False)"
   ]
  },
  {
   "cell_type": "markdown",
   "id": "5240b8ff-6d81-4812-9a7f-3a70b3ee5ac6",
   "metadata": {},
   "source": [
    "## CatBoost"
   ]
  },
  {
   "cell_type": "code",
   "execution_count": 26,
   "id": "5fe50a59-3149-4744-aeca-ca2a1a39e4b1",
   "metadata": {},
   "outputs": [],
   "source": [
    "from catboost import CatBoostClassifier\n",
    "\n",
    "model = CatBoostClassifier(learning_rate=0.1, loss_function= 'Logloss', iterations=1000, verbose=False)\n",
    "model.fit(X_train, y_train, eval_set=(X_val, y_val))\n",
    "y_pred = model.predict(X_test_bow )"
   ]
  },
  {
   "cell_type": "code",
   "execution_count": 27,
   "id": "f37433a4-2f13-4ff5-9c93-8b42653dca2e",
   "metadata": {},
   "outputs": [],
   "source": [
    "res = pd.read_csv('sample_submission.csv')\n",
    "res['target'] = y_pred\n",
    "res.to_csv('result_CatBoost.csv', index = False)"
   ]
  }
 ],
 "metadata": {
  "kernelspec": {
   "display_name": "Python 3 (ipykernel)",
   "language": "python",
   "name": "python3"
  },
  "language_info": {
   "codemirror_mode": {
    "name": "ipython",
    "version": 3
   },
   "file_extension": ".py",
   "mimetype": "text/x-python",
   "name": "python",
   "nbconvert_exporter": "python",
   "pygments_lexer": "ipython3",
   "version": "3.8.12"
  }
 },
 "nbformat": 4,
 "nbformat_minor": 5
}
